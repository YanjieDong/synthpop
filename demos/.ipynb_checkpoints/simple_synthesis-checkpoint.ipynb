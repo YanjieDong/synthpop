{
 "cells": [
  {
   "cell_type": "code",
   "execution_count": 1,
   "metadata": {
    "collapsed": false
   },
   "outputs": [],
   "source": [
    "from synthpop.recipes.starter import Starter\n",
    "from synthpop.synthesizer import synthesize_all, enable_logging \n",
    "import os\n",
    "import pandas as pd"
   ]
  },
  {
   "cell_type": "code",
   "execution_count": 2,
   "metadata": {
    "collapsed": false
   },
   "outputs": [],
   "source": [
    "starter = Starter(os.environ[\"CENSUS\"], \"CA\", \"Santa Clara County\")"
   ]
  },
  {
   "cell_type": "code",
   "execution_count": null,
   "metadata": {
    "collapsed": false
   },
   "outputs": [],
   "source": [
    "ind = pd.Series([\"06\", \"085\", \"508203\", \"3\"], index=[\"state\", \"county\", \"tract\", \"block group\"])"
   ]
  },
  {
   "cell_type": "code",
   "execution_count": 12,
   "metadata": {
    "collapsed": false
   },
   "outputs": [
    {
     "name": "stdout",
     "output_type": "stream",
     "text": [
      "Synthesizing at geog level: 'block_group' (number of geographies is 1075)\n",
      "Synthesizing geog id:\n",
      "state              06\n",
      "county            085\n",
      "tract          508203\n",
      "block group         3\n",
      "dtype: object\n",
      "Drawing 884 households\n",
      "CPU times: user 1.79 s, sys: 28.5 ms, total: 1.82 s\n",
      "Wall time: 1.83 s\n"
     ]
    }
   ],
   "source": [
    "%time households, persons, fit = synthesize_all(starter, indexes=[ind])"
   ]
  },
  {
   "cell_type": "code",
   "execution_count": 7,
   "metadata": {
    "collapsed": false
   },
   "outputs": [
    {
     "data": {
      "text/html": [
       "<div style=\"max-height:1000px;max-width:1500px;overflow:auto;\">\n",
       "<table border=\"1\" class=\"dataframe\">\n",
       "  <thead>\n",
       "    <tr style=\"text-align: right;\">\n",
       "      <th></th>\n",
       "      <th>serialno</th>\n",
       "      <th>RT</th>\n",
       "      <th>DIVISION</th>\n",
       "      <th>PUMA00</th>\n",
       "      <th>PUMA10</th>\n",
       "      <th>REGION</th>\n",
       "      <th>ST</th>\n",
       "      <th>ADJHSG</th>\n",
       "      <th>ADJINC</th>\n",
       "      <th>WGTP</th>\n",
       "      <th>...</th>\n",
       "      <th>WGTP76</th>\n",
       "      <th>WGTP77</th>\n",
       "      <th>WGTP78</th>\n",
       "      <th>WGTP79</th>\n",
       "      <th>WGTP80</th>\n",
       "      <th>cars</th>\n",
       "      <th>workers</th>\n",
       "      <th>children</th>\n",
       "      <th>income</th>\n",
       "      <th>cat_id</th>\n",
       "    </tr>\n",
       "  </thead>\n",
       "  <tbody>\n",
       "    <tr>\n",
       "      <th>0</th>\n",
       "      <td> 2012000030460</td>\n",
       "      <td> H</td>\n",
       "      <td> 9</td>\n",
       "      <td>-9</td>\n",
       "      <td> 08502</td>\n",
       "      <td> 4</td>\n",
       "      <td> 06</td>\n",
       "      <td> 1000000</td>\n",
       "      <td> 1010207</td>\n",
       "      <td> 18</td>\n",
       "      <td>...</td>\n",
       "      <td>  5</td>\n",
       "      <td> 27</td>\n",
       "      <td> 21</td>\n",
       "      <td> 16</td>\n",
       "      <td>  6</td>\n",
       "      <td> two or more</td>\n",
       "      <td> one</td>\n",
       "      <td> yes</td>\n",
       "      <td>      gt100</td>\n",
       "      <td> 45</td>\n",
       "    </tr>\n",
       "    <tr>\n",
       "      <th>1</th>\n",
       "      <td> 2012000776236</td>\n",
       "      <td> H</td>\n",
       "      <td> 9</td>\n",
       "      <td>-9</td>\n",
       "      <td> 08502</td>\n",
       "      <td> 4</td>\n",
       "      <td> 06</td>\n",
       "      <td> 1000000</td>\n",
       "      <td> 1010207</td>\n",
       "      <td> 17</td>\n",
       "      <td>...</td>\n",
       "      <td> 33</td>\n",
       "      <td> 15</td>\n",
       "      <td> 34</td>\n",
       "      <td> 30</td>\n",
       "      <td> 16</td>\n",
       "      <td>         one</td>\n",
       "      <td> one</td>\n",
       "      <td> yes</td>\n",
       "      <td> gt35-lt100</td>\n",
       "      <td> 28</td>\n",
       "    </tr>\n",
       "    <tr>\n",
       "      <th>2</th>\n",
       "      <td> 2012001433300</td>\n",
       "      <td> H</td>\n",
       "      <td> 9</td>\n",
       "      <td>-9</td>\n",
       "      <td> 08502</td>\n",
       "      <td> 4</td>\n",
       "      <td> 06</td>\n",
       "      <td> 1000000</td>\n",
       "      <td> 1010207</td>\n",
       "      <td> 22</td>\n",
       "      <td>...</td>\n",
       "      <td>  6</td>\n",
       "      <td> 21</td>\n",
       "      <td> 24</td>\n",
       "      <td> 10</td>\n",
       "      <td> 35</td>\n",
       "      <td>         one</td>\n",
       "      <td> one</td>\n",
       "      <td> yes</td>\n",
       "      <td>      gt100</td>\n",
       "      <td> 27</td>\n",
       "    </tr>\n",
       "  </tbody>\n",
       "</table>\n",
       "<p>3 rows × 208 columns</p>\n",
       "</div>"
      ],
      "text/plain": [
       "        serialno RT  DIVISION  PUMA00 PUMA10  REGION  ST   ADJHSG   ADJINC  \\\n",
       "0  2012000030460  H         9      -9  08502       4  06  1000000  1010207   \n",
       "1  2012000776236  H         9      -9  08502       4  06  1000000  1010207   \n",
       "2  2012001433300  H         9      -9  08502       4  06  1000000  1010207   \n",
       "\n",
       "   WGTP   ...    WGTP76  WGTP77  WGTP78  WGTP79  WGTP80         cars  workers  \\\n",
       "0    18   ...         5      27      21      16       6  two or more      one   \n",
       "1    17   ...        33      15      34      30      16          one      one   \n",
       "2    22   ...         6      21      24      10      35          one      one   \n",
       "\n",
       "   children      income  cat_id  \n",
       "0       yes       gt100      45  \n",
       "1       yes  gt35-lt100      28  \n",
       "2       yes       gt100      27  \n",
       "\n",
       "[3 rows x 208 columns]"
      ]
     },
     "execution_count": 7,
     "metadata": {},
     "output_type": "execute_result"
    }
   ],
   "source": [
    "households.head(3)"
   ]
  },
  {
   "cell_type": "code",
   "execution_count": 8,
   "metadata": {
    "collapsed": false
   },
   "outputs": [
    {
     "data": {
      "text/html": [
       "<div style=\"max-height:1000px;max-width:1500px;overflow:auto;\">\n",
       "<table border=\"1\" class=\"dataframe\">\n",
       "  <thead>\n",
       "    <tr style=\"text-align: right;\">\n",
       "      <th></th>\n",
       "      <th>serialno</th>\n",
       "      <th>RT</th>\n",
       "      <th>SPORDER</th>\n",
       "      <th>PUMA00</th>\n",
       "      <th>PUMA10</th>\n",
       "      <th>ST</th>\n",
       "      <th>ADJINC</th>\n",
       "      <th>PWGTP</th>\n",
       "      <th>AGEP</th>\n",
       "      <th>CIT</th>\n",
       "      <th>...</th>\n",
       "      <th>PWGTP76</th>\n",
       "      <th>PWGTP77</th>\n",
       "      <th>PWGTP78</th>\n",
       "      <th>PWGTP79</th>\n",
       "      <th>PWGTP80</th>\n",
       "      <th>age</th>\n",
       "      <th>race</th>\n",
       "      <th>sex</th>\n",
       "      <th>cat_id</th>\n",
       "      <th>hh_id</th>\n",
       "    </tr>\n",
       "  </thead>\n",
       "  <tbody>\n",
       "    <tr>\n",
       "      <th>0</th>\n",
       "      <td> 2012000030460</td>\n",
       "      <td> P</td>\n",
       "      <td> 1</td>\n",
       "      <td>-9</td>\n",
       "      <td> 08502</td>\n",
       "      <td> 06</td>\n",
       "      <td> 1010207</td>\n",
       "      <td> 18</td>\n",
       "      <td> 46</td>\n",
       "      <td> 4</td>\n",
       "      <td>...</td>\n",
       "      <td> 5</td>\n",
       "      <td> 28</td>\n",
       "      <td> 21</td>\n",
       "      <td> 16</td>\n",
       "      <td> 6</td>\n",
       "      <td> 35 to 60</td>\n",
       "      <td> asian</td>\n",
       "      <td> female</td>\n",
       "      <td> 16</td>\n",
       "      <td>  0</td>\n",
       "    </tr>\n",
       "    <tr>\n",
       "      <th>1</th>\n",
       "      <td> 2012000030460</td>\n",
       "      <td> P</td>\n",
       "      <td> 1</td>\n",
       "      <td>-9</td>\n",
       "      <td> 08502</td>\n",
       "      <td> 06</td>\n",
       "      <td> 1010207</td>\n",
       "      <td> 18</td>\n",
       "      <td> 46</td>\n",
       "      <td> 4</td>\n",
       "      <td>...</td>\n",
       "      <td> 5</td>\n",
       "      <td> 28</td>\n",
       "      <td> 21</td>\n",
       "      <td> 16</td>\n",
       "      <td> 6</td>\n",
       "      <td> 35 to 60</td>\n",
       "      <td> asian</td>\n",
       "      <td> female</td>\n",
       "      <td> 16</td>\n",
       "      <td>  6</td>\n",
       "    </tr>\n",
       "    <tr>\n",
       "      <th>2</th>\n",
       "      <td> 2012000030460</td>\n",
       "      <td> P</td>\n",
       "      <td> 1</td>\n",
       "      <td>-9</td>\n",
       "      <td> 08502</td>\n",
       "      <td> 06</td>\n",
       "      <td> 1010207</td>\n",
       "      <td> 18</td>\n",
       "      <td> 46</td>\n",
       "      <td> 4</td>\n",
       "      <td>...</td>\n",
       "      <td> 5</td>\n",
       "      <td> 28</td>\n",
       "      <td> 21</td>\n",
       "      <td> 16</td>\n",
       "      <td> 6</td>\n",
       "      <td> 35 to 60</td>\n",
       "      <td> asian</td>\n",
       "      <td> female</td>\n",
       "      <td> 16</td>\n",
       "      <td> 20</td>\n",
       "    </tr>\n",
       "  </tbody>\n",
       "</table>\n",
       "<p>3 rows × 295 columns</p>\n",
       "</div>"
      ],
      "text/plain": [
       "        serialno RT  SPORDER  PUMA00 PUMA10  ST   ADJINC  PWGTP  AGEP  CIT  \\\n",
       "0  2012000030460  P        1      -9  08502  06  1010207     18    46    4   \n",
       "1  2012000030460  P        1      -9  08502  06  1010207     18    46    4   \n",
       "2  2012000030460  P        1      -9  08502  06  1010207     18    46    4   \n",
       "\n",
       "   ...    PWGTP76  PWGTP77  PWGTP78  PWGTP79  PWGTP80       age   race  \\\n",
       "0  ...          5       28       21       16        6  35 to 60  asian   \n",
       "1  ...          5       28       21       16        6  35 to 60  asian   \n",
       "2  ...          5       28       21       16        6  35 to 60  asian   \n",
       "\n",
       "      sex  cat_id  hh_id  \n",
       "0  female      16      0  \n",
       "1  female      16      6  \n",
       "2  female      16     20  \n",
       "\n",
       "[3 rows x 295 columns]"
      ]
     },
     "execution_count": 8,
     "metadata": {},
     "output_type": "execute_result"
    }
   ],
   "source": [
    "persons.head(3)"
   ]
  },
  {
   "cell_type": "code",
   "execution_count": 9,
   "metadata": {
    "collapsed": false
   },
   "outputs": [
    {
     "data": {
      "text/plain": [
       "{BlockGroupID(state='06', county='085', tract='508203', block_group='3'): FitQuality(household_chisq=1033957.2104660122, household_p=0.0, people_chisq=86.359051234185131, people_p=4.0257811248627773e-07)}"
      ]
     },
     "execution_count": 9,
     "metadata": {},
     "output_type": "execute_result"
    }
   ],
   "source": [
    "fit"
   ]
  },
  {
   "cell_type": "code",
   "execution_count": 13,
   "metadata": {
    "collapsed": false
   },
   "outputs": [],
   "source": [
    "starter = Starter(os.environ[\"CENSUS\"], \"MD\", \"Montgomery County\")"
   ]
  },
  {
   "cell_type": "code",
   "execution_count": 15,
   "metadata": {
    "collapsed": false
   },
   "outputs": [],
   "source": [
    "ind = pd.Series([\"24\", \"031\", \"700101\", \"1\"], index=[\"state\", \"county\", \"tract\", \"block group\"])"
   ]
  },
  {
   "cell_type": "code",
   "execution_count": 17,
   "metadata": {
    "collapsed": false
   },
   "outputs": [
    {
     "name": "stdout",
     "output_type": "stream",
     "text": [
      "Synthesizing at geog level: 'block_group' (number of geographies is 614)\n",
      "Synthesizing geog id:\n",
      "state              24\n",
      "county            031\n",
      "tract          700101\n",
      "block group         1\n",
      "dtype: object\n",
      "Drawing 548 households\n",
      "CPU times: user 873 ms, sys: 39.7 ms, total: 913 ms\n",
      "Wall time: 929 ms\n"
     ]
    }
   ],
   "source": [
    "%time households, persons, fit = synthesize_all(starter, indexes=[ind])"
   ]
  },
  {
   "cell_type": "code",
   "execution_count": null,
   "metadata": {
    "collapsed": false
   },
   "outputs": [],
   "source": []
  }
 ],
 "metadata": {
  "kernelspec": {
   "display_name": "Python 2",
   "language": "python",
   "name": "python2"
  },
  "language_info": {
   "codemirror_mode": {
    "name": "ipython",
    "version": 2
   },
   "file_extension": ".py",
   "mimetype": "text/x-python",
   "name": "python",
   "nbconvert_exporter": "python",
   "pygments_lexer": "ipython2",
   "version": "2.7.11"
  }
 },
 "nbformat": 4,
 "nbformat_minor": 0
}
